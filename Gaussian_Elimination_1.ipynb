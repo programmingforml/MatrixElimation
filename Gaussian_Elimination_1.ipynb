{
 "cells": [
  {
   "cell_type": "code",
   "execution_count": 5,
   "id": "762f5a5e",
   "metadata": {},
   "outputs": [],
   "source": [
    "# numpy\n",
    "import numpy as np\n",
    "\n",
    "# pip install sympy\n",
    "import sympy as sp\n",
    "\n",
    "# matplotlib\n",
    "import matplotlib.pyplot as plt\n",
    "%matplotlib inline"
   ]
  },
  {
   "cell_type": "code",
   "execution_count": 11,
   "id": "3754e766",
   "metadata": {},
   "outputs": [],
   "source": [
    "\n",
    "def gaussian_elim(A):\n",
    "    m, n = A.shape\n",
    "    A = np.float64(A)\n",
    "    \n",
    "    #YOUR CODE HERE\n",
    "    i = 0 # index of row of A[i,j]\n",
    "    j = 0 # index of column of A[i,j]\n",
    "\n",
    "    while (i < m and j < n):\n",
    "        # Find the index of the A[i,j] with maximum absolute value in each column. \n",
    "        max_index_column = A[:, j].tolist().index(max(abs(A[:, j])))\n",
    "\n",
    "        # Check whether A[i,j] is 0.\n",
    "        if A[max_index_column,j] != 0:\n",
    "            # Swap the line with maximum absolute value A[i,j] to A[i].\n",
    "            A[[i, max_index_column]] = A[[max_index_column, i]]\n",
    "            # Make sure A[i,j] is 1.\n",
    "            A[i] = A[i] / A[i, j]\n",
    "            \n",
    "            # let other element be 0 in the column j (line i+1 to the last line).\n",
    "            for u in range(i+1, m):\n",
    "                A[u] -= A[u,j]*A[i]\n",
    "            \n",
    "            # let other element be 0 in the column j (the first line to line i-1).\n",
    "            for v in range(0, i):\n",
    "                A[v] = A[j]*A[v,j] - A[v]\n",
    "                \n",
    "        i += 1    \n",
    "        j += 1\n",
    "        \n",
    "        p = m if m<n else n\n",
    "        # make sure each pivot is 1 instead of -1.\n",
    "        for k in range(0, p-1):\n",
    "            if A[k,k] == -1:\n",
    "                A[k] = (-1) * A[k]\n",
    "    return A"
   ]
  },
  {
   "cell_type": "code",
   "execution_count": 12,
   "id": "38a81892",
   "metadata": {},
   "outputs": [
    {
     "name": "stdout",
     "output_type": "stream",
     "text": [
      "[[ 1.         -0.         -0.          0.36363636 -0.81818182  0.18181818]\n",
      " [-0.          1.         -0.         -0.18181818  0.90909091 -0.09090909]\n",
      " [ 0.          0.          1.          0.09090909  0.54545455  0.54545455]]\n"
     ]
    }
   ],
   "source": [
    "A = np.array([[2, 0, 3, 1, 0, 2],\n",
    "             [1, 3, 2, 0, 3, 1],\n",
    "             [3, 2, 3, 1, 1, 2]])\n",
    "print(gaussian_elim(A))\n",
    "#The result should look like\n",
    "# [[ 1.          0.          0.          0.36363636 -0.81818182  0.18181818]\n",
    "#  [ 0.          1.          0.         -0.18181818  0.90909091 -0.09090909]\n",
    "#  [ 0.          0.          1.          0.09090909  0.54545455  0.54545455]]"
   ]
  },
  {
   "cell_type": "code",
   "execution_count": null,
   "id": "6f5c6ee5",
   "metadata": {},
   "outputs": [],
   "source": []
  }
 ],
 "metadata": {
  "kernelspec": {
   "display_name": "Python 3 (ipykernel)",
   "language": "python",
   "name": "python3"
  },
  "language_info": {
   "codemirror_mode": {
    "name": "ipython",
    "version": 3
   },
   "file_extension": ".py",
   "mimetype": "text/x-python",
   "name": "python",
   "nbconvert_exporter": "python",
   "pygments_lexer": "ipython3",
   "version": "3.9.12"
  }
 },
 "nbformat": 4,
 "nbformat_minor": 5
}
